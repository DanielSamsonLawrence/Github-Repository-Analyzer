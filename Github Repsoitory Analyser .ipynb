{
 "cells": [
  {
   "cell_type": "code",
   "execution_count": 1,
   "id": "90de55aa",
   "metadata": {},
   "outputs": [],
   "source": [
    "import requests\n",
    "import matplotlib.pyplot as plt\n",
    " "
   ]
  },
  {
   "cell_type": "code",
   "execution_count": 2,
   "id": "6c62fc87",
   "metadata": {},
   "outputs": [],
   "source": [
    "def get_repo_info(owner,repo):\n",
    "    url=f\"https://api.github.com/repos/{owner}/{repo}\"\n",
    "    response=requests.get(url)\n",
    "    if response.status_code==200:\n",
    "        return response.json()\n",
    "    else:\n",
    "        print(f\"Error fetching repository info:{response.status_code}\")\n",
    "        return None\n",
    "    "
   ]
  },
  {
   "cell_type": "code",
   "execution_count": 3,
   "id": "5ae9fca4",
   "metadata": {},
   "outputs": [],
   "source": [
    "def get_commit_history(owner,repo):\n",
    "    url=f\"https://api.github.com/repos/{owner}/{repo}/commits\"\n",
    "    response=requests.get(url)\n",
    "    if response.status_code==200:\n",
    "        return response.json()\n",
    "    else:\n",
    "        print(f\"Error fetching commit history:{response.status_code}\")\n",
    "        return None"
   ]
  },
  {
   "cell_type": "code",
   "execution_count": 4,
   "id": "666e8586",
   "metadata": {},
   "outputs": [],
   "source": [
    "def analyze_repo(owner, repo):\n",
    "    repo_info = get_repo_info(owner, repo)\n",
    "    if repo_info is None:\n",
    "        print(\"Failed to retrieve repository information.\")\n",
    "        return\n",
    "    print(f\"Repository: {repo_info.get('name', 'N/A')}\")\n",
    "    print(f\"Description: {repo_info.get('description', 'N/A')}\")\n",
    "    print(f\"Stars: {repo_info.get('stargazers_count', 'N/A')}\")\n",
    "    print(f\"Forks: {repo_info.get('forks_count', 'N/A')}\")"
   ]
  },
  {
   "cell_type": "code",
   "execution_count": 5,
   "id": "af270a4a",
   "metadata": {},
   "outputs": [
    {
     "name": "stdout",
     "output_type": "stream",
     "text": [
      "Enter the repository owner: DanielSamsonLawrence\n",
      "Enter the repository name: NLP\n",
      "Repository: NLP\n",
      "Description: None\n",
      "Stars: 0\n",
      "Forks: 0\n"
     ]
    }
   ],
   "source": [
    "if __name__ == \"__main__\":\n",
    "    owner = input(\"Enter the repository owner: \")\n",
    "    repo = input(\"Enter the repository name: \")\n",
    "    analyze_repo(owner, repo)"
   ]
  },
  {
   "cell_type": "code",
   "execution_count": null,
   "id": "83ece68c",
   "metadata": {},
   "outputs": [],
   "source": []
  }
 ],
 "metadata": {
  "kernelspec": {
   "display_name": "Python 3 (ipykernel)",
   "language": "python",
   "name": "python3"
  },
  "language_info": {
   "codemirror_mode": {
    "name": "ipython",
    "version": 3
   },
   "file_extension": ".py",
   "mimetype": "text/x-python",
   "name": "python",
   "nbconvert_exporter": "python",
   "pygments_lexer": "ipython3",
   "version": "3.11.5"
  }
 },
 "nbformat": 4,
 "nbformat_minor": 5
}
